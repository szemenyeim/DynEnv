{
 "cells": [
  {
   "cell_type": "code",
   "execution_count": null,
   "metadata": {
    "pycharm": {
     "is_executing": false
    }
   },
   "outputs": [],
   "source": [
    "import matplotlib.pyplot as plt\n",
    "from os.path import isfile, join, abspath, dirname\n",
    "from os import listdir\n",
    "import sys\n",
    "import pandas as pd\n",
    "import numpy as np"
   ]
  },
  {
   "cell_type": "code",
   "execution_count": null,
   "metadata": {
    "pycharm": {
     "is_executing": false
    }
   },
   "outputs": [],
   "source": [
    "%matplotlib inline\n",
    "%load_ext autoreload\n",
    "%autoreload 2"
   ]
  },
  {
   "cell_type": "code",
   "execution_count": null,
   "metadata": {},
   "outputs": [],
   "source": [
    "SAVE=True\n",
    "DECIMATE = 1\n",
    "WINDOW = 1"
   ]
  },
  {
   "cell_type": "code",
   "execution_count": null,
   "metadata": {},
   "outputs": [],
   "source": [
    "from DynEnv.utils.logger import LogData, TemporalLogger, EnvLogger\n",
    "from DynEnv.utils.utils import plot_typography"
   ]
  },
  {
   "cell_type": "code",
   "execution_count": null,
   "metadata": {
    "pycharm": {
     "is_executing": false
    }
   },
   "outputs": [],
   "source": [
    "plot_typography(False, 12, 14, 16)"
   ]
  },
  {
   "cell_type": "code",
   "execution_count": null,
   "metadata": {
    "pycharm": {
     "is_executing": false
    }
   },
   "outputs": [],
   "source": [
    "__file__ = \"analysis.ipynb\"\n",
    "log_dir = join(dirname(dirname(abspath(__file__))), \"log\")\n",
    "\n",
    "\n",
    "def figure_factory(log_dir, env, decimate=100, save=True,\n",
    "                   loc_feat=1, loc_rwd=4, zoom_feat=2.5, zoom_rwd=2.5, window=1000, keyword=\"ep_rewards\"):\n",
    "        \n",
    "    # load data \n",
    "    el = EnvLogger(env, log_dir, decimate)\n",
    "\n",
    "    # plot\n",
    "    rwd_metrics = el.plot_decorator(keyword=keyword, save=save, loc=loc_rwd, zoom=zoom_rwd, window=window)\n",
    "\n",
    "    return rwd_metrics"
   ]
  },
  {
   "cell_type": "code",
   "execution_count": null,
   "metadata": {},
   "outputs": [],
   "source": [
    "driving_ep_rwd = figure_factory(log_dir, \"Driving\",DECIMATE, save=SAVE, loc_rwd=4, loc_feat=1, zoom_rwd=2., zoom_feat=4,\n",
    "                               window=WINDOW) "
   ]
  },
  {
   "cell_type": "code",
   "execution_count": null,
   "metadata": {},
   "outputs": [],
   "source": [
    "robo_ep_rwd = figure_factory(log_dir, \"RoboCup\",DECIMATE, save=SAVE, loc_rwd=4, loc_feat=1, zoom_rwd=2., zoom_feat=4,\n",
    "                               window=WINDOW) "
   ]
  }
 ],
 "metadata": {
  "kernelspec": {
   "display_name": "Python 3",
   "language": "python",
   "name": "python3"
  },
  "language_info": {
   "codemirror_mode": {
    "name": "ipython",
    "version": 3
   },
   "file_extension": ".py",
   "mimetype": "text/x-python",
   "name": "python",
   "nbconvert_exporter": "python",
   "pygments_lexer": "ipython3",
   "version": "3.7.3"
  }
 },
 "nbformat": 4,
 "nbformat_minor": 2
}
