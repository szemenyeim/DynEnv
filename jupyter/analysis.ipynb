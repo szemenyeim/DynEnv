{
 "cells": [
  {
   "cell_type": "code",
   "execution_count": null,
   "metadata": {
    "pycharm": {
     "is_executing": false
    }
   },
   "outputs": [],
   "source": [
    "import matplotlib.pyplot as plt\n",
    "from os.path import isfile, join, abspath, dirname\n",
    "from os import listdir\n",
    "import sys\n",
    "import pandas as pd\n",
    "import numpy as np"
   ]
  },
  {
   "cell_type": "code",
   "execution_count": null,
   "metadata": {
    "pycharm": {
     "is_executing": false
    }
   },
   "outputs": [],
   "source": [
    "%matplotlib inline\n",
    "%load_ext autoreload\n",
    "%autoreload 2"
   ]
  },
  {
   "cell_type": "code",
   "execution_count": null,
   "metadata": {
    "pycharm": {
     "is_executing": false
    }
   },
   "outputs": [],
   "source": [
    "sys.path.insert(0, '../src/')"
   ]
  },
  {
   "cell_type": "code",
   "execution_count": null,
   "metadata": {},
   "outputs": [],
   "source": [
    "SAVE=False\n",
    "DECIMATE = 100\n",
    "WINDOW = 1000"
   ]
  },
  {
   "cell_type": "code",
   "execution_count": null,
   "metadata": {
    "pycharm": {
     "is_executing": false
    }
   },
   "outputs": [],
   "source": [
    "from logger import LogData, TemporalLogger, EnvLogger\n",
    "from utils import plot_typography"
   ]
  },
  {
   "cell_type": "code",
   "execution_count": null,
   "metadata": {
    "pycharm": {
     "is_executing": false
    }
   },
   "outputs": [],
   "source": [
    "plot_typography(False, 12, 14, 16)"
   ]
  },
  {
   "cell_type": "code",
   "execution_count": null,
   "metadata": {
    "pycharm": {
     "is_executing": false
    }
   },
   "outputs": [],
   "source": [
    "__file__ = \"analysis.ipynb\"\n",
    "log_dir = join(dirname(dirname(abspath(__file__))), \"log\")\n",
    "\n",
    "\n",
    "def figure_factory(log_dir, env, variant, rew_scale=5, feat_scale=1, decimate=100, save=True,\n",
    "                   loc_feat=1, loc_rwd=4, zoom_feat=2.5, zoom_rwd=2.5, window=1000):\n",
    "    # sanity check\n",
    "    if variant not in [0,4]:\n",
    "        raise ValueError(f\"Invalid variant, got {variant}, should be 0 or 4\")\n",
    "    \n",
    "    # load data \n",
    "    el = EnvLogger(f\"{env}NoFrameskip-v{variant}\", log_dir, decimate)\n",
    "\n",
    "    # plot\n",
    "    rwd_metrics = el.plot_decorator(keyword=\"rewards\", save=save, y_inset_std_scale=rew_scale,\n",
    "                                    loc=loc_rwd, zoom=zoom_rwd, window=window)\n",
    "    el.plot_decorator(keyword=\"features\", save=save, y_inset_std_scale=feat_scale, loc=loc_feat, zoom=zoom_feat, window=window)\n",
    "\n",
    "    return rwd_metrics"
   ]
  },
  {
   "cell_type": "code",
   "execution_count": null,
   "metadata": {},
   "outputs": [],
   "source": [
    "pong_metrics4 = figure_factory(log_dir, \"Pong\", 4, 5, .5, DECIMATE, save=SAVE, loc_rwd=4, loc_feat=1, zoom_rwd=2., zoom_feat=4,\n",
    "                               window=WINDOW) "
   ]
  },
  {
   "cell_type": "code",
   "execution_count": null,
   "metadata": {},
   "outputs": [],
   "source": [
    "breakout_metrics4 = figure_factory(log_dir, \"Breakout\", 4, 1.85, 1, DECIMATE, save=SAVE, loc_rwd=2, loc_feat=4, zoom_rwd=1.75,\n",
    "                                   zoom_feat=1.7, window=WINDOW) "
   ]
  },
  {
   "cell_type": "code",
   "execution_count": null,
   "metadata": {},
   "outputs": [],
   "source": [
    "seaquest_metrics4 = figure_factory(log_dir, \"Seaquest\", 4, 1.3, 1.5, DECIMATE, save=SAVE, loc_rwd=2, loc_feat=1, zoom_rwd=2.1,\n",
    "                                   zoom_feat=1.2, window=WINDOW) "
   ]
  },
  {
   "cell_type": "code",
   "execution_count": null,
   "metadata": {},
   "outputs": [],
   "source": [
    "pong_metrics0 = figure_factory(log_dir, \"Pong\", 0, 3.85, .75, DECIMATE, save=SAVE, loc_rwd=4, loc_feat=1, window=WINDOW)"
   ]
  },
  {
   "cell_type": "code",
   "execution_count": null,
   "metadata": {},
   "outputs": [],
   "source": [
    "breakout_metrics0 = figure_factory(log_dir, \"Breakout\", 0, 2.4, .5, DECIMATE, save=SAVE, loc_rwd=2, loc_feat=4, zoom_rwd=1.5,\n",
    "                                   zoom_feat=2.5, window=WINDOW)"
   ]
  },
  {
   "cell_type": "code",
   "execution_count": null,
   "metadata": {},
   "outputs": [],
   "source": [
    "seaquest_metrics0 = figure_factory(log_dir, \"Seaquest\", 0, 1.4, .4, DECIMATE, save=SAVE, loc_rwd=2, loc_feat=4, zoom_rwd=1.65,\n",
    "                                   zoom_feat=2.5, window=WINDOW) "
   ]
  },
  {
   "cell_type": "code",
   "execution_count": null,
   "metadata": {},
   "outputs": [],
   "source": [
    "df0 = pd.DataFrame([pong_metrics0, breakout_metrics0, seaquest_metrics0])\n",
    "df4 = pd.DataFrame([pong_metrics4, breakout_metrics4, seaquest_metrics4])\n",
    "df=pd.concat([df0,df4])"
   ]
  },
  {
   "cell_type": "code",
   "execution_count": null,
   "metadata": {},
   "outputs": [],
   "source": [
    "df"
   ]
  },
  {
   "cell_type": "code",
   "execution_count": null,
   "metadata": {},
   "outputs": [],
   "source": [
    "df.transpose()"
   ]
  },
  {
   "cell_type": "code",
   "execution_count": null,
   "metadata": {},
   "outputs": [],
   "source": [
    "df.to_numpy().mean(axis=0), df.to_numpy().std(axis=0), np.median(df.to_numpy(),axis=0)"
   ]
  },
  {
   "cell_type": "code",
   "execution_count": null,
   "metadata": {},
   "outputs": [],
   "source": [
    "pong_metrics0"
   ]
  },
  {
   "cell_type": "code",
   "execution_count": null,
   "metadata": {},
   "outputs": [],
   "source": [
    "pong_metrics0.values()"
   ]
  }
 ],
 "metadata": {
  "kernelspec": {
   "display_name": "Python 3",
   "language": "python",
   "name": "python3"
  },
  "language_info": {
   "codemirror_mode": {
    "name": "ipython",
    "version": 3
   },
   "file_extension": ".py",
   "mimetype": "text/x-python",
   "name": "python",
   "nbconvert_exporter": "python",
   "pygments_lexer": "ipython3",
   "version": "3.7.3"
  }
 },
 "nbformat": 4,
 "nbformat_minor": 2
}
